{
 "cells": [
  {
   "cell_type": "code",
   "execution_count": null,
   "id": "d4770c50",
   "metadata": {},
   "outputs": [],
   "source": [
    "#1)Написать программу для решения уравнений "
   ]
  },
  {
   "cell_type": "code",
   "execution_count": 2,
   "id": "113df312",
   "metadata": {},
   "outputs": [],
   "source": [
    "import math"
   ]
  },
  {
   "cell_type": "code",
   "execution_count": 3,
   "id": "9919f831",
   "metadata": {},
   "outputs": [],
   "source": [
    "from typing import Tuple"
   ]
  },
  {
   "cell_type": "code",
   "execution_count": 10,
   "id": "88b657e3",
   "metadata": {},
   "outputs": [],
   "source": [
    "\n",
    "def solve_quadratic(a: float, b: float, c: float) -> Tuple[float, float]:\n",
    "\n",
    "    d = b*b - 4*a*c\n",
    "    if d < 0:\n",
    "        raise ValueError(\"Дискреминант < 0\")\n",
    "    \n",
    "    sqrt_d = math.sqrt(d)\n",
    "    return ((-b + sqrt_d) / (2*a), (-b - sqrt_d) / (2*a))"
   ]
  },
  {
   "cell_type": "code",
   "execution_count": 11,
   "id": "fd203b3e",
   "metadata": {},
   "outputs": [
    {
     "name": "stdout",
     "output_type": "stream",
     "text": [
      "5) (10.0, 2.0)\n"
     ]
    }
   ],
   "source": [
    "# 5) y^2 - 12y + 20 = 0\n",
    "\n",
    "print(\"5)\", solve_quadratic(1, -12, 20))"
   ]
  },
  {
   "cell_type": "code",
   "execution_count": 12,
   "id": "78aac7ed",
   "metadata": {},
   "outputs": [
    {
     "name": "stdout",
     "output_type": "stream",
     "text": [
      "6) (-8.0, -9.0)\n"
     ]
    }
   ],
   "source": [
    "# 6) z^2 + 17z + 72 = 0\n",
    "print(\"6)\", solve_quadratic(1, 17, 72))"
   ]
  },
  {
   "cell_type": "code",
   "execution_count": 13,
   "id": "8e80404b",
   "metadata": {},
   "outputs": [
    {
     "name": "stdout",
     "output_type": "stream",
     "text": [
      "7) (11.0, -4.0)\n"
     ]
    }
   ],
   "source": [
    "# 7) x^2 - 7x - 44 = 0\n",
    "print(\"7)\", solve_quadratic(1, -7, -44)) "
   ]
  },
  {
   "cell_type": "code",
   "execution_count": 14,
   "id": "66dd0ed5",
   "metadata": {},
   "outputs": [
    {
     "name": "stdout",
     "output_type": "stream",
     "text": [
      "8) (-1.0, -8.0)\n"
     ]
    }
   ],
   "source": [
    "# 8) y^2 + 9y + 8 = 0\n",
    "print(\"8)\", solve_quadratic(1, 9, 8))"
   ]
  },
  {
   "cell_type": "code",
   "execution_count": 15,
   "id": "34f81f7d",
   "metadata": {},
   "outputs": [
    {
     "name": "stdout",
     "output_type": "stream",
     "text": [
      "9) (9.0, -7.0)\n"
     ]
    }
   ],
   "source": [
    "# 9) b^2 - 2b - 63 = 0\n",
    "print(\"9)\", solve_quadratic(1, -2, -63))"
   ]
  },
  {
   "cell_type": "code",
   "execution_count": 16,
   "id": "6531ab0c",
   "metadata": {},
   "outputs": [],
   "source": [
    "#2)Развернуть список в обратном порядке"
   ]
  },
  {
   "cell_type": "code",
   "execution_count": 18,
   "id": "6c2f3b0b",
   "metadata": {},
   "outputs": [
    {
     "name": "stdout",
     "output_type": "stream",
     "text": [
      "[1, 2, 3, 4, 5, 6, 7, 8, 9, 10]\n"
     ]
    }
   ],
   "source": [
    "list = [1,2,3,4,5,6,7,8,9,10]\n",
    "print(list)"
   ]
  },
  {
   "cell_type": "code",
   "execution_count": 19,
   "id": "3c656c34",
   "metadata": {},
   "outputs": [
    {
     "name": "stdout",
     "output_type": "stream",
     "text": [
      "[10, 9, 8, 7, 6, 5, 4, 3, 2, 1]\n"
     ]
    }
   ],
   "source": [
    "list.reverse()\n",
    "print(list)"
   ]
  },
  {
   "cell_type": "code",
   "execution_count": 20,
   "id": "108bd46d",
   "metadata": {},
   "outputs": [],
   "source": [
    "#3) Поменять местами первый и последний элементы"
   ]
  },
  {
   "cell_type": "code",
   "execution_count": 21,
   "id": "794f8784",
   "metadata": {},
   "outputs": [],
   "source": [
    "lst =[1,2,3,4,5]"
   ]
  },
  {
   "cell_type": "code",
   "execution_count": 23,
   "id": "e6566b40",
   "metadata": {},
   "outputs": [
    {
     "name": "stdout",
     "output_type": "stream",
     "text": [
      "[5, 2, 3, 4, 1]\n"
     ]
    }
   ],
   "source": [
    "def change(lst):\n",
    "    if len(lst) < 2:\n",
    "        return lst\n",
    "    lst[0], lst[-1] = lst[-1], lst[0]\n",
    "    return lst\n",
    "\n",
    "print(change(lst))\n",
    "    "
   ]
  },
  {
   "cell_type": "code",
   "execution_count": 24,
   "id": "78b951fe",
   "metadata": {},
   "outputs": [],
   "source": [
    "# 4)«Бесполезное» число Николая"
   ]
  },
  {
   "cell_type": "code",
   "execution_count": 26,
   "id": "cd18744f",
   "metadata": {},
   "outputs": [
    {
     "name": "stdout",
     "output_type": "stream",
     "text": [
      "[1, 2, 3, 10, 100, 1000]\n"
     ]
    }
   ],
   "source": [
    "useless = [1,2,3,10,100,1000]\n",
    "print( useless)"
   ]
  },
  {
   "cell_type": "code",
   "execution_count": 30,
   "id": "9fcfea7c",
   "metadata": {},
   "outputs": [
    {
     "name": "stdout",
     "output_type": "stream",
     "text": [
      "166.66666666666666\n"
     ]
    }
   ],
   "source": [
    "def useless(nums):\n",
    "    if not nums:\n",
    "        raise ValueError(\"Список пуст деоим на 0\")\n",
    "    return max(nums)/len(nums)\n",
    "\n",
    "print(useless( [1,2,3,10,100,1000]))"
   ]
  },
  {
   "cell_type": "code",
   "execution_count": 31,
   "id": "83d80d61",
   "metadata": {},
   "outputs": [],
   "source": [
    "#5)Выровнять длину строк подчёркиваниями справа"
   ]
  },
  {
   "cell_type": "code",
   "execution_count": 33,
   "id": "0848875f",
   "metadata": {},
   "outputs": [
    {
     "name": "stdout",
     "output_type": "stream",
     "text": [
      "['крот____', 'белка___', 'выхухоль']\n"
     ]
    }
   ],
   "source": [
    "def all_eq(lst):\n",
    "    if not lst:\n",
    "        return[]\n",
    "    width = max(len(s) for s in lst)\n",
    "    return [s.ljust(width, \"_\") for s in lst]\n",
    "\n",
    "example = ['крот', 'белка', 'выхухоль']\n",
    "print(all_eq(example))\n"
   ]
  },
  {
   "cell_type": "code",
   "execution_count": 34,
   "id": "058a05e0",
   "metadata": {},
   "outputs": [],
   "source": [
    "# Написать функцию для решиния уравнения"
   ]
  },
  {
   "cell_type": "code",
   "execution_count": 35,
   "id": "5508fd39",
   "metadata": {},
   "outputs": [],
   "source": [
    "import math\n"
   ]
  },
  {
   "cell_type": "code",
   "execution_count": 44,
   "id": "cdcb1d41",
   "metadata": {},
   "outputs": [
    {
     "ename": "ValueError",
     "evalue": "math domain error",
     "output_type": "error",
     "traceback": [
      "\u001b[31m---------------------------------------------------------------------------\u001b[39m",
      "\u001b[31mValueError\u001b[39m                                Traceback (most recent call last)",
      "\u001b[36mCell\u001b[39m\u001b[36m \u001b[39m\u001b[32mIn[44]\u001b[39m\u001b[32m, line 9\u001b[39m\n\u001b[32m      6\u001b[39m     \u001b[38;5;28;01mreturn\u001b[39;00m y\n\u001b[32m      8\u001b[39m x = \u001b[32m1.79\u001b[39m\n\u001b[32m----> \u001b[39m\u001b[32m9\u001b[39m \u001b[38;5;28mprint\u001b[39m(\u001b[43mcompute_y\u001b[49m\u001b[43m(\u001b[49m\u001b[43mx\u001b[49m\u001b[43m)\u001b[49m)\n",
      "\u001b[36mCell\u001b[39m\u001b[36m \u001b[39m\u001b[32mIn[44]\u001b[39m\u001b[32m, line 5\u001b[39m, in \u001b[36mcompute_y\u001b[39m\u001b[34m(x)\u001b[39m\n\u001b[32m      1\u001b[39m \u001b[38;5;28;01mdef\u001b[39;00m\u001b[38;5;250m \u001b[39m\u001b[34mcompute_y\u001b[39m(x):\n\u001b[32m      3\u001b[39m     y = (math.cos(x) + math.log(\u001b[32m1\u001b[39m + x))**\u001b[32m2\u001b[39m \\\n\u001b[32m      4\u001b[39m         + math.sqrt(math.cos(x) + math.sin(x)**\u001b[32m2\u001b[39m) \\\n\u001b[32m----> \u001b[39m\u001b[32m5\u001b[39m               + \u001b[43mmath\u001b[49m\u001b[43m.\u001b[49m\u001b[43msqrt\u001b[49m\u001b[43m(\u001b[49m\u001b[32;43m1\u001b[39;49m\u001b[43m/\u001b[49m\u001b[43mx\u001b[49m\u001b[43m \u001b[49m\u001b[43m+\u001b[49m\u001b[43m \u001b[49m\u001b[43mmath\u001b[49m\u001b[43m.\u001b[49m\u001b[43mcos\u001b[49m\u001b[43m(\u001b[49m\u001b[43mx\u001b[49m\u001b[43m*\u001b[49m\u001b[43m*\u001b[49m\u001b[32;43m2\u001b[39;49m\u001b[43m)\u001b[49m\u001b[43m)\u001b[49m * math.sin(x)\n\u001b[32m      6\u001b[39m     \u001b[38;5;28;01mreturn\u001b[39;00m y\n",
      "\u001b[31mValueError\u001b[39m: math domain error"
     ]
    }
   ],
   "source": [
    "def compute_y(x):\n",
    "\n",
    "    y = (math.cos(x) + math.log(1 + x))**2 \\\n",
    "        + math.sqrt(math.cos(x) + math.sin(x)**2) \\\n",
    "              + math.sqrt(1/x + math.cos(x**2)) * math.sin(x)\n",
    "    return y\n",
    "\n",
    "x = 1.79\n",
    "print(compute_y(x))"
   ]
  },
  {
   "cell_type": "code",
   "execution_count": 46,
   "id": "240568c9",
   "metadata": {},
   "outputs": [],
   "source": [
    "#поиск подстроки без учёта регистра"
   ]
  },
  {
   "cell_type": "code",
   "execution_count": 49,
   "id": "c1dc800b",
   "metadata": {},
   "outputs": [
    {
     "name": "stdout",
     "output_type": "stream",
     "text": [
      "Есть контакт\n",
      "Есть контакт\n"
     ]
    }
   ],
   "source": [
    "def search_substr(subst, st):\n",
    "     if subst.lower() in st.lower():\n",
    "           return 'Есть контакт'\n",
    "     else:\n",
    "           return 'Мимо'\n",
    "     \n",
    "print(search_substr('hello', 'HeLLo world'))\n",
    "print(search_substr('bye', 'Goodbye'))   "
   ]
  },
  {
   "cell_type": "code",
   "execution_count": 50,
   "id": "6777ba54",
   "metadata": {},
   "outputs": [],
   "source": [
    "#самых частых символа (игнорируем пробелы)"
   ]
  },
  {
   "cell_type": "code",
   "execution_count": 52,
   "id": "5573856a",
   "metadata": {},
   "outputs": [
    {
     "name": "stdout",
     "output_type": "stream",
     "text": [
      "[('s', 4), ('i', 3), ('a', 3)]\n"
     ]
    }
   ],
   "source": [
    "from collections import Counter\n",
    "\n",
    "def chars(text):\n",
    "    text = text.replace(\" \",\"\")\n",
    "    counter = Counter(text)\n",
    "    return counter.most_common(3)\n",
    "\n",
    "s = \"Hi I Yaroslav, this is a test\"\n",
    "print(chars(s))\n",
    "\n",
    "\n",
    "\n",
    "\n"
   ]
  },
  {
   "cell_type": "code",
   "execution_count": 53,
   "id": "c57a598f",
   "metadata": {},
   "outputs": [],
   "source": [
    "#словарь с подсчётом чисел\n"
   ]
  },
  {
   "cell_type": "code",
   "execution_count": 55,
   "id": "abefa0cc",
   "metadata": {},
   "outputs": [
    {
     "name": "stdout",
     "output_type": "stream",
     "text": [
      "{3: 4, 1: 3, 9: 2}\n"
     ]
    }
   ],
   "source": [
    "def count_it(seq):\n",
    "    seq_str = ''.join(str(x) for x in seq)\n",
    "    counter = Counter(seq_str)\n",
    "    most_common = counter.most_common(3)\n",
    "    return{int(k): v for k, v in most_common}\n",
    "\n",
    "seq = [1, 3, 1, 2, 9, 1, 3, 3, 0, 5, 3, 9]\n",
    "print(count_it(seq))\n"
   ]
  },
  {
   "cell_type": "code",
   "execution_count": 56,
   "id": "909d1721",
   "metadata": {},
   "outputs": [],
   "source": [
    "#Шахматы"
   ]
  },
  {
   "cell_type": "code",
   "execution_count": null,
   "id": "8d9bdd05",
   "metadata": {},
   "outputs": [],
   "source": []
  }
 ],
 "metadata": {
  "kernelspec": {
   "display_name": "Python 3",
   "language": "python",
   "name": "python3"
  },
  "language_info": {
   "codemirror_mode": {
    "name": "ipython",
    "version": 3
   },
   "file_extension": ".py",
   "mimetype": "text/x-python",
   "name": "python",
   "nbconvert_exporter": "python",
   "pygments_lexer": "ipython3",
   "version": "3.13.3"
  }
 },
 "nbformat": 4,
 "nbformat_minor": 5
}
